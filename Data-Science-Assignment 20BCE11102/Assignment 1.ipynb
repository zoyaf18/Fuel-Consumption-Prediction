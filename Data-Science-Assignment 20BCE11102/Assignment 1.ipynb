{
 "cells": [
  {
   "cell_type": "markdown",
   "id": "362d5863",
   "metadata": {},
   "source": [
    "# Assignment 1"
   ]
  },
  {
   "cell_type": "code",
   "execution_count": null,
   "id": "1c991cab",
   "metadata": {},
   "outputs": [],
   "source": [
    "#by Zoya Fatima (20BCE11102)"
   ]
  },
  {
   "cell_type": "code",
   "execution_count": 1,
   "id": "971ee17d",
   "metadata": {},
   "outputs": [],
   "source": [
    "name = \"Zoya\"\n",
    "age = 21\n",
    "\n",
    "print(name)\n",
    "print(age)"
   ]
  },
  {
   "cell_type": "code",
   "execution_count": 3,
   "id": "4efe7bbc",
   "metadata": {},
   "outputs": [
    {
     "data": {
      "text/plain": [
       "['Datascience', 'is', 'used', 'to', 'extract', 'meaningful', 'insights.']"
      ]
     },
     "execution_count": 3,
     "metadata": {},
     "output_type": "execute_result"
    }
   ],
   "source": [
    "X=\"Datascience is used to extract meaningful insights.\"\n",
    "X.split()"
   ]
  },
  {
   "cell_type": "code",
   "execution_count": 4,
   "id": "5fd7e1a2",
   "metadata": {},
   "outputs": [],
   "source": [
    "def mul(x, y):\n",
    "    return x*y\n",
    "\n",
    "mul(2,9)"
   ]
  },
  {
   "cell_type": "code",
   "execution_count": 6,
   "id": "640a5ad1",
   "metadata": {},
   "outputs": [
    {
     "name": "stdout",
     "output_type": "stream",
     "text": [
      "States:\n",
      "MP\n",
      "Maharashtra\n",
      "UP\n",
      "Bihar\n",
      "Gujarat\n",
      "\n",
      "Capitals:\n",
      "Bhopal\n",
      "Mumbai\n",
      "Lucknow\n",
      "Patna\n",
      "Gandhinagar\n"
     ]
    }
   ],
   "source": [
    "# Dictionary of states and capitals\n",
    "states_capitals = {\n",
    "    'MP': 'Bhopal',\n",
    "    'Maharashtra': 'Mumbai',\n",
    "    'UP': 'Lucknow',\n",
    "    'Bihar': 'Patna',\n",
    "    'Gujarat': 'Gandhinagar'\n",
    "}\n",
    "\n",
    "# Print the keys (states)\n",
    "print(\"States:\")\n",
    "for state in states_capitals.keys():\n",
    "    print(state)\n",
    "\n",
    "# Print the values (capitals)\n",
    "print(\"\\nCapitals:\")\n",
    "for capital in states_capitals.values():\n",
    "    print(capital)\n"
   ]
  },
  {
   "cell_type": "code",
   "execution_count": 7,
   "id": "4c98d330",
   "metadata": {},
   "outputs": [
    {
     "name": "stdout",
     "output_type": "stream",
     "text": [
      "[1, 2, 3, 4, 5, 6, 7, 8, 9, 10]\n"
     ]
    }
   ],
   "source": [
    "numbers = list(range(1, 1001))\n",
    "\n",
    "# Print the first 10 numbers\n",
    "print(numbers[:10])"
   ]
  },
  {
   "cell_type": "code",
   "execution_count": 9,
   "id": "1b8945b8",
   "metadata": {},
   "outputs": [
    {
     "name": "stdout",
     "output_type": "stream",
     "text": [
      "[1, 0, 0, 0]\n",
      "[0, 1, 0, 0]\n",
      "[0, 0, 1, 0]\n",
      "[0, 0, 0, 1]\n"
     ]
    }
   ],
   "source": [
    "# Dimension of the identity matrix\n",
    "dimension = 4\n",
    "\n",
    "# Create the identity matrix\n",
    "identity_matrix = [[1 if i == j else 0 for j in range(dimension)] for i in range(dimension)]\n",
    "\n",
    "# Print the identity matrix\n",
    "for row in identity_matrix:\n",
    "    print(row)\n"
   ]
  },
  {
   "cell_type": "code",
   "execution_count": 10,
   "id": "9b6bb640",
   "metadata": {},
   "outputs": [
    {
     "name": "stdout",
     "output_type": "stream",
     "text": [
      "[1, 2, 3]\n",
      "[4, 5, 6]\n",
      "[7, 8, 9]\n"
     ]
    }
   ],
   "source": [
    "# Create the 3x3 matrix\n",
    "matrix = [[j + 1 + i*3 for j in range(3)] for i in range(3)]\n",
    "\n",
    "# Print the matrix\n",
    "for row in matrix:\n",
    "    print(row)\n"
   ]
  },
  {
   "cell_type": "code",
   "execution_count": 11,
   "id": "6fc2c361",
   "metadata": {},
   "outputs": [
    {
     "name": "stdout",
     "output_type": "stream",
     "text": [
      "[[10 10 10]\n",
      " [10 10 10]\n",
      " [10 10 10]]\n"
     ]
    }
   ],
   "source": [
    "import numpy as np\n",
    "\n",
    "# Create two arrays\n",
    "array1 = np.array([[1, 2, 3], [4, 5, 6], [7, 8, 9]])\n",
    "array2 = np.array([[9, 8, 7], [6, 5, 4], [3, 2, 1]])\n",
    "\n",
    "# Perform sum operation\n",
    "result = array1 + array2\n",
    "\n",
    "# Print the result\n",
    "print(result)\n"
   ]
  },
  {
   "cell_type": "code",
   "execution_count": 12,
   "id": "a3678371",
   "metadata": {},
   "outputs": [
    {
     "name": "stdout",
     "output_type": "stream",
     "text": [
      "01-02-2023\n",
      "02-02-2023\n",
      "03-02-2023\n",
      "04-02-2023\n",
      "05-02-2023\n",
      "06-02-2023\n",
      "07-02-2023\n",
      "08-02-2023\n",
      "09-02-2023\n",
      "10-02-2023\n",
      "11-02-2023\n",
      "12-02-2023\n",
      "13-02-2023\n",
      "14-02-2023\n",
      "15-02-2023\n",
      "16-02-2023\n",
      "17-02-2023\n",
      "18-02-2023\n",
      "19-02-2023\n",
      "20-02-2023\n",
      "21-02-2023\n",
      "22-02-2023\n",
      "23-02-2023\n",
      "24-02-2023\n",
      "25-02-2023\n",
      "26-02-2023\n",
      "27-02-2023\n",
      "28-02-2023\n"
     ]
    },
    {
     "name": "stderr",
     "output_type": "stream",
     "text": [
      "C:\\Users\\LENOVO\\AppData\\Local\\Temp\\ipykernel_11808\\3583035386.py:8: FutureWarning: Argument `closed` is deprecated in favor of `inclusive`.\n",
      "  dates = pd.date_range(start=start_date, end=end_date, closed='left')\n"
     ]
    }
   ],
   "source": [
    "import pandas as pd\n",
    "\n",
    "# Define the start and end dates\n",
    "start_date = '2023-02-01'\n",
    "end_date = '2023-03-01'\n",
    "\n",
    "# Generate the series of dates\n",
    "dates = pd.date_range(start=start_date, end=end_date, closed='left')\n",
    "\n",
    "# Print the series of dates\n",
    "for date in dates:\n",
    "    print(date.strftime('%d-%m-%Y'))\n"
   ]
  },
  {
   "cell_type": "code",
   "execution_count": 13,
   "id": "b50e1c2c",
   "metadata": {},
   "outputs": [
    {
     "name": "stdout",
     "output_type": "stream",
     "text": [
      "     Brand  Sales\n",
      "0   Maruti    250\n",
      "1  Renault    200\n",
      "2  Hyundai    240\n"
     ]
    }
   ],
   "source": [
    "import pandas as pd\n",
    "\n",
    "# Given dictionary\n",
    "dictionary = {'Brand': ['Maruti', 'Renault', 'Hyundai'], 'Sales': [250, 200, 240]}\n",
    "\n",
    "# Convert dictionary to dataframe\n",
    "df = pd.DataFrame(dictionary)\n",
    "\n",
    "# Display the dataframe\n",
    "print(df)\n"
   ]
  },
  {
   "cell_type": "code",
   "execution_count": null,
   "id": "63bd7641",
   "metadata": {},
   "outputs": [],
   "source": []
  }
 ],
 "metadata": {
  "kernelspec": {
   "display_name": "Python 3 (ipykernel)",
   "language": "python",
   "name": "python3"
  },
  "language_info": {
   "codemirror_mode": {
    "name": "ipython",
    "version": 3
   },
   "file_extension": ".py",
   "mimetype": "text/x-python",
   "name": "python",
   "nbconvert_exporter": "python",
   "pygments_lexer": "ipython3",
   "version": "3.9.1"
  }
 },
 "nbformat": 4,
 "nbformat_minor": 5
}
